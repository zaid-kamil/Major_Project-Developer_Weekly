{
 "cells": [
  {
   "cell_type": "code",
   "execution_count": 1,
   "metadata": {},
   "outputs": [],
   "source": [
    "from bs4 import BeautifulSoup\n",
    "import requests\n",
    "import pandas as pd\n",
    "import datetime"
   ]
  },
  {
   "cell_type": "code",
   "execution_count": 2,
   "metadata": {},
   "outputs": [],
   "source": [
    "def get_soup(url):\n",
    "    try:\n",
    "        page = requests.get(url)\n",
    "        if page.status_code == 200:\n",
    "            soup = BeautifulSoup(page.text,'html.parser')\n",
    "            return soup\n",
    "        else:\n",
    "            print(\"page error\",page.status_code)\n",
    "            return None\n",
    "    except:\n",
    "        print(\"Internet error\")\n",
    "        return None"
   ]
  },
  {
   "cell_type": "code",
   "execution_count": 6,
   "metadata": {},
   "outputs": [],
   "source": [
    "soup = get_soup('https://python.libhunt.com/newsletter/312')\n",
    "target = soup.find_all('ul',class_='newsletter-stories')"
   ]
  },
  {
   "cell_type": "code",
   "execution_count": 12,
   "metadata": {},
   "outputs": [
    {
     "name": "stdout",
     "output_type": "stream",
     "text": [
      "12\n"
     ]
    }
   ],
   "source": [
    "data = []\n",
    "for ultag in target:\n",
    "    for item in ultag.find_all('li'):\n",
    "        try:\n",
    "            linktag = item.find('a',attrs={'class':'title'})\n",
    "            title = linktag.text\n",
    "            link = linktag.get('href')\n",
    "            source = item.find('div',class_='host').text\n",
    "            data.append({\n",
    "                'title':title,\n",
    "                'link':link,\n",
    "                'source':source,\n",
    "            })   \n",
    "        except:\n",
    "            pass\n",
    "print(len(data))"
   ]
  },
  {
   "cell_type": "code",
   "execution_count": 17,
   "metadata": {},
   "outputs": [],
   "source": [
    "jssoup = get_soup('https://javascriptweekly.com/')\n",
    "issue_path = jssoup.find('div',attrs={'class':'main'}).find_all('a')[2].attrs.get('href')\n",
    "soup = get_soup('https://javascriptweekly.com/'+issue_path)"
   ]
  },
  {
   "cell_type": "code",
   "execution_count": 19,
   "metadata": {},
   "outputs": [
    {
     "data": {
      "text/plain": [
       "19"
      ]
     },
     "execution_count": 19,
     "metadata": {},
     "output_type": "execute_result"
    }
   ],
   "source": [
    "\n",
    "len(rows)"
   ]
  },
  {
   "cell_type": "code",
   "execution_count": 25,
   "metadata": {},
   "outputs": [
    {
     "name": "stdout",
     "output_type": "stream",
     "text": [
      "blinry \n",
      "\n",
      "Microsoft \n",
      "\n",
      "Kontent by Kentico sponsor\n",
      "\n",
      "Robin Wieruch \n",
      "\n",
      "Jamie Smith \n",
      "\n",
      "Rust for JavaScript Developers sponsor\n",
      "\n",
      "Lars Grammel \n",
      "\n",
      "Dr. Axel Rauschmayer \n",
      "\n",
      "Feroot Security sponsor\n",
      "\n",
      "CodeREVUE \n",
      "\n",
      "Yuriy Nemtsov \n",
      "\n",
      "foliojs \n",
      "\n",
      "Nathan Blair \n",
      "\n",
      "Epicmax \n",
      "\n",
      "Stream sponsor\n",
      "\n",
      "Simon Y. Blackwell \n",
      "\n",
      "Elder.js Team \n",
      "\n",
      "Isaac Z. Schlueter \n",
      "\n",
      "Ashok Khanna \n",
      "\n"
     ]
    }
   ],
   "source": [
    "def js_extract_data(soup):\n",
    "    data = []\n",
    "    rows = soup.find_all('table',class_='el-item item')\n",
    "    for row in rows:\n",
    "        title = row.find('span',class_='mainlink').a.text\n",
    "        link = row.find('span',class_='mainlink').a.attrs.get('href')\n",
    "        description = row.find('p',class_='desc').text\n",
    "        source = row.find('p',class_='name').text\n",
    "        data.append({\n",
    "            'title':title,\n",
    "            'link':link,\n",
    "            'description':description,\n",
    "            'source':source,\n",
    "        })\n",
    "    return data\n"
   ]
  },
  {
   "cell_type": "code",
   "execution_count": null,
   "metadata": {},
   "outputs": [],
   "source": []
  }
 ],
 "metadata": {
  "interpreter": {
   "hash": "6e11b575d63e0c053a2af339eeb63568f41be82542f69a4d07649bd0f4847a77"
  },
  "kernelspec": {
   "display_name": "Python 3.9.12 ('project')",
   "language": "python",
   "name": "python3"
  },
  "language_info": {
   "codemirror_mode": {
    "name": "ipython",
    "version": 3
   },
   "file_extension": ".py",
   "mimetype": "text/x-python",
   "name": "python",
   "nbconvert_exporter": "python",
   "pygments_lexer": "ipython3",
   "version": "3.9.12"
  },
  "orig_nbformat": 4
 },
 "nbformat": 4,
 "nbformat_minor": 2
}
