{
 "cells": [
  {
   "cell_type": "code",
   "execution_count": 53,
   "metadata": {},
   "outputs": [],
   "source": [
    "from bs4 import BeautifulSoup\n",
    "import requests\n",
    "import pandas as pd\n",
    "import datetime"
   ]
  },
  {
   "cell_type": "code",
   "execution_count": 54,
   "metadata": {},
   "outputs": [],
   "source": [
    "def get_soup(url):\n",
    "    try:\n",
    "        page = requests.get(url)\n",
    "        if page.status_code == 200:\n",
    "            soup = BeautifulSoup(page.text,'html.parser')\n",
    "            return soup\n",
    "        else:\n",
    "            print(\"page error\",page.status_code)\n",
    "            return None\n",
    "    except:\n",
    "        print(\"Internet error\")\n",
    "        return None"
   ]
  },
  {
   "cell_type": "code",
   "execution_count": 55,
   "metadata": {},
   "outputs": [],
   "source": [
    "url = 'https://django-news.com/'\n",
    "soup = get_soup(url)"
   ]
  },
  {
   "cell_type": "code",
   "execution_count": 80,
   "metadata": {},
   "outputs": [],
   "source": [
    "# extracting category of the article\n",
    "def article_category(soup,class_name):\n",
    "    article = soup.find('section',class_=class_name)\n",
    "    category = article.find('h2').find('span')\n",
    "    return category.string\n",
    "    \n",
    "# finding names of the class present in section\n",
    "def preprocessing_data(soup):\n",
    "    cls_name = []\n",
    "    remove_item = ['cc-news','cc-trendsandinsights','cc-events','cc-sponsored-link-bottom','cc-sponsored-link-top','cc-sponsorship']\n",
    "    issue = soup.find('div',class_='issue__body')\n",
    "    body = issue.find_all('section')\n",
    "    for item in body:\n",
    "        if item.has_attr('class'):\n",
    "            cls_name.append(item['class'])\n",
    "\n",
    "    for item1 in remove_item:\n",
    "        for item in cls_name:\n",
    "            if item1==item[1]:\n",
    "                cls_name.remove(item)\n",
    "    return cls_name"
   ]
  },
  {
   "cell_type": "code",
   "execution_count": 81,
   "metadata": {},
   "outputs": [],
   "source": [
    "def extract_details(soup,class_name):\n",
    "    category =[]\n",
    "    topic = []\n",
    "    description = []\n",
    "    link = []\n",
    "    for name in class_name:\n",
    "        section = soup.find('section',class_=name[1])\n",
    "        div_in_sec = section.find_all('div',class_='item item--issue item--link')\n",
    "        for item in div_in_sec:\n",
    "            category.append(article_category(soup,name[1]))\n",
    "            content = item.find('h3',class_='item__title')\n",
    "            topic.append(content.find('a').string)\n",
    "            description.append(item.find('p').string)\n",
    "            link.append(content.find('a').get('href'))\n",
    "    return{\n",
    "        'category':category,\n",
    "        'topic':topic,\n",
    "        'description':description,\n",
    "        'link':link\n",
    "    }\n",
    "\n",
    "\n"
   ]
  },
  {
   "cell_type": "code",
   "execution_count": 82,
   "metadata": {},
   "outputs": [],
   "source": [
    "if __name__ == '__main__':\n",
    "    url = 'https://django-news.com/issues/114#start'\n",
    "    soup = get_soup(url)\n",
    "    name_of_classes = preprocessing_data(soup)\n",
    "    details = extract_details(soup,name_of_classes)\n",
    "    df = pd.DataFrame(details)\n",
    "    df"
   ]
  },
  {
   "cell_type": "code",
   "execution_count": 83,
   "metadata": {},
   "outputs": [
    {
     "data": {
      "text/html": [
       "<div>\n",
       "<style scoped>\n",
       "    .dataframe tbody tr th:only-of-type {\n",
       "        vertical-align: middle;\n",
       "    }\n",
       "\n",
       "    .dataframe tbody tr th {\n",
       "        vertical-align: top;\n",
       "    }\n",
       "\n",
       "    .dataframe thead th {\n",
       "        text-align: right;\n",
       "    }\n",
       "</style>\n",
       "<table border=\"1\" class=\"dataframe\">\n",
       "  <thead>\n",
       "    <tr style=\"text-align: right;\">\n",
       "      <th></th>\n",
       "      <th>category</th>\n",
       "      <th>topic</th>\n",
       "      <th>description</th>\n",
       "      <th>link</th>\n",
       "    </tr>\n",
       "  </thead>\n",
       "  <tbody>\n",
       "    <tr>\n",
       "      <th>0</th>\n",
       "      <td>Articles</td>\n",
       "      <td>How I Write Conference Talk Proposals</td>\n",
       "      <td>A very detailed look at planning and writing c...</td>\n",
       "      <td>https://cur.at/3B9qnlZ?m=web</td>\n",
       "    </tr>\n",
       "    <tr>\n",
       "      <th>1</th>\n",
       "      <td>Articles</td>\n",
       "      <td>Save a Django Query to the Database</td>\n",
       "      <td>A financial transactions example of saving a q...</td>\n",
       "      <td>https://cur.at/WIoK2PE?m=web</td>\n",
       "    </tr>\n",
       "    <tr>\n",
       "      <th>2</th>\n",
       "      <td>Articles</td>\n",
       "      <td>Django, HTMX and Alpine</td>\n",
       "      <td>An overview with code examples of the benefits...</td>\n",
       "      <td>https://cur.at/z0UMyuj?m=web</td>\n",
       "    </tr>\n",
       "    <tr>\n",
       "      <th>3</th>\n",
       "      <td>Articles</td>\n",
       "      <td>Automating package releases with GitHub</td>\n",
       "      <td>From Tom Christie a guide to automating packag...</td>\n",
       "      <td>https://cur.at/DNgzeTP?m=web</td>\n",
       "    </tr>\n",
       "    <tr>\n",
       "      <th>4</th>\n",
       "      <td>Articles</td>\n",
       "      <td>Django-plpy toolkit for Python stored procedur...</td>\n",
       "      <td>Django-plpy attempts to close the gap between ...</td>\n",
       "      <td>https://cur.at/OoTdaJO?m=web</td>\n",
       "    </tr>\n",
       "    <tr>\n",
       "      <th>5</th>\n",
       "      <td>Articles</td>\n",
       "      <td>Announcing WhiteNoise 6 by Adam Johnson</td>\n",
       "      <td>WhiteNoise 6 adds support for modern Django, P...</td>\n",
       "      <td>https://cur.at/8ElWmqE?m=web</td>\n",
       "    </tr>\n",
       "    <tr>\n",
       "      <th>6</th>\n",
       "      <td>Videos</td>\n",
       "      <td>PyCascades 2022 Video Playlist</td>\n",
       "      <td>PyCascades 2022 videos are up.</td>\n",
       "      <td>https://cur.at/M5b9pbi?m=web</td>\n",
       "    </tr>\n",
       "    <tr>\n",
       "      <th>7</th>\n",
       "      <td>Projects</td>\n",
       "      <td>ubernostrum/django-flashpolicies</td>\n",
       "      <td>Flash cross-domain policies for Django.</td>\n",
       "      <td>https://cur.at/uPT0lMK?m=web</td>\n",
       "    </tr>\n",
       "    <tr>\n",
       "      <th>8</th>\n",
       "      <td>Projects</td>\n",
       "      <td>thorin-schiffer/django-plpy</td>\n",
       "      <td>Django utilities for Postgres PL/Python</td>\n",
       "      <td>https://cur.at/F64aAUM?m=web</td>\n",
       "    </tr>\n",
       "  </tbody>\n",
       "</table>\n",
       "</div>"
      ],
      "text/plain": [
       "   category                                              topic  \\\n",
       "0  Articles              How I Write Conference Talk Proposals   \n",
       "1  Articles                Save a Django Query to the Database   \n",
       "2  Articles                            Django, HTMX and Alpine   \n",
       "3  Articles            Automating package releases with GitHub   \n",
       "4  Articles  Django-plpy toolkit for Python stored procedur...   \n",
       "5  Articles            Announcing WhiteNoise 6 by Adam Johnson   \n",
       "6    Videos                     PyCascades 2022 Video Playlist   \n",
       "7  Projects                   ubernostrum/django-flashpolicies   \n",
       "8  Projects                        thorin-schiffer/django-plpy   \n",
       "\n",
       "                                         description  \\\n",
       "0  A very detailed look at planning and writing c...   \n",
       "1  A financial transactions example of saving a q...   \n",
       "2  An overview with code examples of the benefits...   \n",
       "3  From Tom Christie a guide to automating packag...   \n",
       "4  Django-plpy attempts to close the gap between ...   \n",
       "5  WhiteNoise 6 adds support for modern Django, P...   \n",
       "6                     PyCascades 2022 videos are up.   \n",
       "7            Flash cross-domain policies for Django.   \n",
       "8            Django utilities for Postgres PL/Python   \n",
       "\n",
       "                           link  \n",
       "0  https://cur.at/3B9qnlZ?m=web  \n",
       "1  https://cur.at/WIoK2PE?m=web  \n",
       "2  https://cur.at/z0UMyuj?m=web  \n",
       "3  https://cur.at/DNgzeTP?m=web  \n",
       "4  https://cur.at/OoTdaJO?m=web  \n",
       "5  https://cur.at/8ElWmqE?m=web  \n",
       "6  https://cur.at/M5b9pbi?m=web  \n",
       "7  https://cur.at/uPT0lMK?m=web  \n",
       "8  https://cur.at/F64aAUM?m=web  "
      ]
     },
     "execution_count": 83,
     "metadata": {},
     "output_type": "execute_result"
    }
   ],
   "source": [
    "df"
   ]
  },
  {
   "cell_type": "code",
   "execution_count": 38,
   "metadata": {},
   "outputs": [
    {
     "name": "stdout",
     "output_type": "stream",
     "text": [
      "Understand Django #18: Security\n",
      "A detailed look at web security in general and how to implement best practices in Django.\n",
      "https://cur.at/Be1hvPF?m=web\n",
      "Scaling Django with Postgres Read Replicas\n",
      "While this is not a new post, if you ever wondered how to scale Django with Postgres Read Replicas, this is worth reading.\n",
      "https://cur.at/lg0wtXy?m=web\n",
      "Python Development Environment on macOS Monterey and Big Sur\n",
      "An opinionated tutorial on configuring a stock Mac system into a solid Python development environment.\n",
      "https://cur.at/Fm6s55G?m=web\n",
      "Pretty and XSS-safe JSON rendering in the Django admin\n",
      "A concise way to pretty-format a read-only JSON field in the Django admin.\n",
      "https://cur.at/XgCYEbD?m=web\n"
     ]
    }
   ],
   "source": [
    "topic = article.find_all('div',class_='item item--issue item--link')\n",
    "for item in topic:\n",
    "    topic1 = item.find('h3',class_='item__title')\n",
    "    print(topic1.find('a').string)\n",
    "    print(item.find('p').string)\n",
    "    print(topic1.find('a').get('href'))"
   ]
  },
  {
   "cell_type": "code",
   "execution_count": 40,
   "metadata": {},
   "outputs": [],
   "source": [
    "url2 = 'https://django-news.com/issues/113#start'\n",
    "soup2 = get_soup(url2)"
   ]
  },
  {
   "cell_type": "code",
   "execution_count": 52,
   "metadata": {},
   "outputs": [
    {
     "name": "stdout",
     "output_type": "stream",
     "text": [
      "cc-articles\n",
      "cc-jobs\n",
      "cc-projects\n"
     ]
    }
   ],
   "source": [
    "def d(l):\n",
    "    for i in l:\n",
    "        print(i[1])\n",
    "lst = [['category', 'cc-articles'], ['category', 'cc-jobs'], ['category', 'cc-projects']]\n",
    "d(lst)"
   ]
  },
  {
   "cell_type": "code",
   "execution_count": 64,
   "metadata": {},
   "outputs": [
    {
     "name": "stdout",
     "output_type": "stream",
     "text": [
      "Articles\n",
      "Jobs\n",
      "Projects\n"
     ]
    }
   ],
   "source": [
    "url = 'https://django-news.com/'\n",
    "soup = get_soup(url)\n",
    "name_of_classes = preprocessing_data(soup)\n",
    "for i in name_of_classes:\n",
    "    print(article_category(soup,i[1]))"
   ]
  },
  {
   "cell_type": "code",
   "execution_count": null,
   "metadata": {},
   "outputs": [],
   "source": []
  }
 ],
 "metadata": {
  "interpreter": {
   "hash": "8da01e5a71448ea74f54d88afa8911010d1d12e23bc7e103d40d5def4a09152c"
  },
  "kernelspec": {
   "display_name": "Python 3.9.7 64-bit",
   "language": "python",
   "name": "python3"
  },
  "language_info": {
   "codemirror_mode": {
    "name": "ipython",
    "version": 3
   },
   "file_extension": ".py",
   "mimetype": "text/x-python",
   "name": "python",
   "nbconvert_exporter": "python",
   "pygments_lexer": "ipython3",
   "version": "3.9.7"
  },
  "orig_nbformat": 4
 },
 "nbformat": 4,
 "nbformat_minor": 2
}
