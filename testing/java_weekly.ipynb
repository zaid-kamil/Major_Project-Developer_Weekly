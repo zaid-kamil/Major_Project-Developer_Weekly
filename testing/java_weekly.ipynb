{
 "cells": [
  {
   "cell_type": "code",
   "execution_count": 1,
   "metadata": {},
   "outputs": [],
   "source": [
    "from bs4 import BeautifulSoup\n",
    "import requests\n",
    "import pandas as pd\n",
    "import datetime"
   ]
  },
  {
   "cell_type": "code",
   "execution_count": 2,
   "metadata": {},
   "outputs": [],
   "source": [
    "def get_soup(url):\n",
    "    try:\n",
    "        page = requests.get(url)\n",
    "        if page.status_code == 200:\n",
    "            soup = BeautifulSoup(page.text,'html.parser')\n",
    "            return soup\n",
    "        else:\n",
    "            print(\"page error\",page.status_code)\n",
    "            return None\n",
    "    except:\n",
    "        print(\"Internet error\")\n",
    "        return None"
   ]
  },
  {
   "cell_type": "code",
   "execution_count": 9,
   "metadata": {},
   "outputs": [
    {
     "name": "stdout",
     "output_type": "stream",
     "text": [
      "https://java.libhunt.com/newsletter/313\n"
     ]
    }
   ],
   "source": [
    "url = 'https://java.libhunt.com/newsletter'\n",
    "home_page = get_soup(url)\n",
    "news = home_page.find('div',attrs={'class':'text-center text-strong-invite'}).a.attrs.get('href')\n",
    "newsletter_url = \"https://java.libhunt.com\"+news\n",
    "print(newsletter_url)\n",
    "news_soup = get_soup(newsletter_url)"
   ]
  },
  {
   "cell_type": "code",
   "execution_count": 11,
   "metadata": {},
   "outputs": [
    {
     "data": {
      "text/plain": [
       "[{'title': 'New candidate JEP: 428: Structured Concurrency (Incubator)',\n",
       "  'link': 'https://openjdk.java.net/jeps/428',\n",
       "  'date': 'openjdk.java.net'},\n",
       " {'title': 'Publish a Java Project to the Maven Central Repository',\n",
       "  'link': 'https://foojay.io/today/how-to-publish-a-java-maven-project-to-the-maven-central-repository',\n",
       "  'date': 'foojay.io'},\n",
       " {'title': 'Quality outreach heads-up - jep 425 virtual threads (preview) testing',\n",
       "  'link': 'https://inside.java/2022/05/16/quality-heads-up',\n",
       "  'date': 'inside.java'},\n",
       " {'title': 'Less time debugging, more time building',\n",
       "  'link': 'https://ter.li/f02pez',\n",
       "  'date': 'scoutapm.com'},\n",
       " {'title': \"Using Linux's memfd_secret syscall from the JVM with JEP-419 - Panama\",\n",
       "  'link': 'https://blog.arkey.fr/2022/05/16/linux_memfd_secret_with_jep-419',\n",
       "  'date': 'blog.arkey.fr'},\n",
       " {'title': \"Using Java's Project Loom to build more reliable distributed systems\",\n",
       "  'link': 'https://jbaker.io/2022/05/09/project-loom-for-distributed-systems',\n",
       "  'date': 'jbaker.io'},\n",
       " {'title': 'The 2022 Developer Survey is now open',\n",
       "  'link': 'https://stackoverflow.blog/2022/05/11/stack-overflow-2022-developer-survey-is-open',\n",
       "  'date': 'stackoverflow.blog'},\n",
       " {'title': 'How to test a code that uses time? - Improve quality of your project',\n",
       "  'link': 'https://mateuszjarzyna.github.io/posts/how-to-test-time-improve-code-quality-pt-1',\n",
       "  'date': 'mateuszjarzyna.github.io'},\n",
       " {'title': 'Static code analysis for 29 languages.',\n",
       "  'link': 'https://www.sonarqube.org/downloads/?utm_medium=paid&utm_source=libhunt&utm_campaign=multi-language&utm_content=newsletter',\n",
       "  'date': 'www.sonarqube.org'},\n",
       " {'title': 'Containerized Amazon Corretto 11 Memory Issues',\n",
       "  'link': 'https://kpow.io/articles/corretto-memory-issues',\n",
       "  'date': 'kpow.io'},\n",
       " {'title': 'Pitch me on Java',\n",
       "  'link': 'https://dev.to/ben/pitch-me-on-java-44pk',\n",
       "  'date': 'dev.to'},\n",
       " {'title': 'Implementing Event Driven Auto Scaling with Keda and Kubernetes',\n",
       "  'link': 'https://dev.to/lucasnscr/implementing-event-driven-auto-scaling-with-keda-and-kubernetes-223',\n",
       "  'date': 'dev.to'}]"
      ]
     },
     "execution_count": 11,
     "metadata": {},
     "output_type": "execute_result"
    }
   ],
   "source": [
    "def extract_news(news_soup):\n",
    "    news_ul = news_soup.find('ul',attrs={'class':'newsletter-stories'})\n",
    "    if news_ul is None:\n",
    "        print(\"No news\")\n",
    "        return None\n",
    "    else:\n",
    "        news_list = []\n",
    "        for li in news_ul.find_all('li',attrs={'class':'story'}):\n",
    "            news_dict = {}\n",
    "            news_dict['title'] = li.find('a',attrs={'class':'title'}).text\n",
    "            news_dict['link'] = li.find('a',attrs={'class':'title'}).attrs.get('href')\n",
    "            news_dict['date'] = li.find('div',attrs={'class':'host'}).text\n",
    "            news_list.append(news_dict)\n",
    "        return news_list\n",
    "\n",
    "extract_news(news_soup)"
   ]
  },
  {
   "cell_type": "code",
   "execution_count": null,
   "metadata": {},
   "outputs": [],
   "source": []
  }
 ],
 "metadata": {
  "interpreter": {
   "hash": "6e11b575d63e0c053a2af339eeb63568f41be82542f69a4d07649bd0f4847a77"
  },
  "kernelspec": {
   "display_name": "Python 3.9.12 ('project')",
   "language": "python",
   "name": "python3"
  },
  "language_info": {
   "codemirror_mode": {
    "name": "ipython",
    "version": 3
   },
   "file_extension": ".py",
   "mimetype": "text/x-python",
   "name": "python",
   "nbconvert_exporter": "python",
   "pygments_lexer": "ipython3",
   "version": "3.9.12"
  },
  "orig_nbformat": 4
 },
 "nbformat": 4,
 "nbformat_minor": 2
}
